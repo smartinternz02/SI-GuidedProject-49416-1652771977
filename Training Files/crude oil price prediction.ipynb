{
 "cells": [
  {
   "cell_type": "markdown",
   "id": "7cb2ef7d",
   "metadata": {},
   "source": [
    "## Importing Libraries"
   ]
  },
  {
   "cell_type": "code",
   "execution_count": 1,
   "id": "aae8d001",
   "metadata": {},
   "outputs": [],
   "source": [
    "import pandas as pd\n",
    "import numpy as np\n",
    "import matplotlib.pyplot as plt"
   ]
  },
  {
   "cell_type": "markdown",
   "id": "c4a78935",
   "metadata": {},
   "source": [
    "## Importing Dataset"
   ]
  },
  {
   "cell_type": "code",
   "execution_count": 2,
   "id": "91f610ae",
   "metadata": {},
   "outputs": [],
   "source": [
    "data=pd.read_excel(\"Crude Oil Prices Daily.xlsx\")"
   ]
  },
  {
   "cell_type": "code",
   "execution_count": 3,
   "id": "7c1df2f8",
   "metadata": {},
   "outputs": [
    {
     "data": {
      "text/html": [
       "<div>\n",
       "<style scoped>\n",
       "    .dataframe tbody tr th:only-of-type {\n",
       "        vertical-align: middle;\n",
       "    }\n",
       "\n",
       "    .dataframe tbody tr th {\n",
       "        vertical-align: top;\n",
       "    }\n",
       "\n",
       "    .dataframe thead th {\n",
       "        text-align: right;\n",
       "    }\n",
       "</style>\n",
       "<table border=\"1\" class=\"dataframe\">\n",
       "  <thead>\n",
       "    <tr style=\"text-align: right;\">\n",
       "      <th></th>\n",
       "      <th>Date</th>\n",
       "      <th>Closing Value</th>\n",
       "    </tr>\n",
       "  </thead>\n",
       "  <tbody>\n",
       "    <tr>\n",
       "      <th>0</th>\n",
       "      <td>1986-01-02</td>\n",
       "      <td>25.56</td>\n",
       "    </tr>\n",
       "    <tr>\n",
       "      <th>1</th>\n",
       "      <td>1986-01-03</td>\n",
       "      <td>26.00</td>\n",
       "    </tr>\n",
       "    <tr>\n",
       "      <th>2</th>\n",
       "      <td>1986-01-06</td>\n",
       "      <td>26.53</td>\n",
       "    </tr>\n",
       "    <tr>\n",
       "      <th>3</th>\n",
       "      <td>1986-01-07</td>\n",
       "      <td>25.85</td>\n",
       "    </tr>\n",
       "    <tr>\n",
       "      <th>4</th>\n",
       "      <td>1986-01-08</td>\n",
       "      <td>25.87</td>\n",
       "    </tr>\n",
       "  </tbody>\n",
       "</table>\n",
       "</div>"
      ],
      "text/plain": [
       "        Date  Closing Value\n",
       "0 1986-01-02          25.56\n",
       "1 1986-01-03          26.00\n",
       "2 1986-01-06          26.53\n",
       "3 1986-01-07          25.85\n",
       "4 1986-01-08          25.87"
      ]
     },
     "execution_count": 3,
     "metadata": {},
     "output_type": "execute_result"
    }
   ],
   "source": [
    "data.head()"
   ]
  },
  {
   "cell_type": "code",
   "execution_count": 4,
   "id": "c55efb78",
   "metadata": {},
   "outputs": [
    {
     "data": {
      "text/html": [
       "<div>\n",
       "<style scoped>\n",
       "    .dataframe tbody tr th:only-of-type {\n",
       "        vertical-align: middle;\n",
       "    }\n",
       "\n",
       "    .dataframe tbody tr th {\n",
       "        vertical-align: top;\n",
       "    }\n",
       "\n",
       "    .dataframe thead th {\n",
       "        text-align: right;\n",
       "    }\n",
       "</style>\n",
       "<table border=\"1\" class=\"dataframe\">\n",
       "  <thead>\n",
       "    <tr style=\"text-align: right;\">\n",
       "      <th></th>\n",
       "      <th>Date</th>\n",
       "      <th>Closing Value</th>\n",
       "    </tr>\n",
       "  </thead>\n",
       "  <tbody>\n",
       "    <tr>\n",
       "      <th>8218</th>\n",
       "      <td>2018-07-03</td>\n",
       "      <td>74.19</td>\n",
       "    </tr>\n",
       "    <tr>\n",
       "      <th>8219</th>\n",
       "      <td>2018-07-04</td>\n",
       "      <td>NaN</td>\n",
       "    </tr>\n",
       "    <tr>\n",
       "      <th>8220</th>\n",
       "      <td>2018-07-05</td>\n",
       "      <td>73.05</td>\n",
       "    </tr>\n",
       "    <tr>\n",
       "      <th>8221</th>\n",
       "      <td>2018-07-06</td>\n",
       "      <td>73.78</td>\n",
       "    </tr>\n",
       "    <tr>\n",
       "      <th>8222</th>\n",
       "      <td>2018-07-09</td>\n",
       "      <td>73.93</td>\n",
       "    </tr>\n",
       "  </tbody>\n",
       "</table>\n",
       "</div>"
      ],
      "text/plain": [
       "           Date  Closing Value\n",
       "8218 2018-07-03          74.19\n",
       "8219 2018-07-04            NaN\n",
       "8220 2018-07-05          73.05\n",
       "8221 2018-07-06          73.78\n",
       "8222 2018-07-09          73.93"
      ]
     },
     "execution_count": 4,
     "metadata": {},
     "output_type": "execute_result"
    }
   ],
   "source": [
    "data.tail()"
   ]
  },
  {
   "cell_type": "code",
   "execution_count": 5,
   "id": "36cf9970",
   "metadata": {},
   "outputs": [
    {
     "name": "stdout",
     "output_type": "stream",
     "text": [
      "<class 'pandas.core.frame.DataFrame'>\n",
      "RangeIndex: 8223 entries, 0 to 8222\n",
      "Data columns (total 2 columns):\n",
      " #   Column         Non-Null Count  Dtype         \n",
      "---  ------         --------------  -----         \n",
      " 0   Date           8223 non-null   datetime64[ns]\n",
      " 1   Closing Value  8216 non-null   float64       \n",
      "dtypes: datetime64[ns](1), float64(1)\n",
      "memory usage: 128.6 KB\n"
     ]
    }
   ],
   "source": [
    "data.info()"
   ]
  },
  {
   "cell_type": "code",
   "execution_count": 6,
   "id": "cd5d60a7",
   "metadata": {},
   "outputs": [
    {
     "data": {
      "text/html": [
       "<div>\n",
       "<style scoped>\n",
       "    .dataframe tbody tr th:only-of-type {\n",
       "        vertical-align: middle;\n",
       "    }\n",
       "\n",
       "    .dataframe tbody tr th {\n",
       "        vertical-align: top;\n",
       "    }\n",
       "\n",
       "    .dataframe thead th {\n",
       "        text-align: right;\n",
       "    }\n",
       "</style>\n",
       "<table border=\"1\" class=\"dataframe\">\n",
       "  <thead>\n",
       "    <tr style=\"text-align: right;\">\n",
       "      <th></th>\n",
       "      <th>Closing Value</th>\n",
       "    </tr>\n",
       "  </thead>\n",
       "  <tbody>\n",
       "    <tr>\n",
       "      <th>count</th>\n",
       "      <td>8216.000000</td>\n",
       "    </tr>\n",
       "    <tr>\n",
       "      <th>mean</th>\n",
       "      <td>43.492139</td>\n",
       "    </tr>\n",
       "    <tr>\n",
       "      <th>std</th>\n",
       "      <td>29.616804</td>\n",
       "    </tr>\n",
       "    <tr>\n",
       "      <th>min</th>\n",
       "      <td>10.250000</td>\n",
       "    </tr>\n",
       "    <tr>\n",
       "      <th>25%</th>\n",
       "      <td>19.577500</td>\n",
       "    </tr>\n",
       "    <tr>\n",
       "      <th>50%</th>\n",
       "      <td>29.610000</td>\n",
       "    </tr>\n",
       "    <tr>\n",
       "      <th>75%</th>\n",
       "      <td>63.402500</td>\n",
       "    </tr>\n",
       "    <tr>\n",
       "      <th>max</th>\n",
       "      <td>145.310000</td>\n",
       "    </tr>\n",
       "  </tbody>\n",
       "</table>\n",
       "</div>"
      ],
      "text/plain": [
       "       Closing Value\n",
       "count    8216.000000\n",
       "mean       43.492139\n",
       "std        29.616804\n",
       "min        10.250000\n",
       "25%        19.577500\n",
       "50%        29.610000\n",
       "75%        63.402500\n",
       "max       145.310000"
      ]
     },
     "execution_count": 6,
     "metadata": {},
     "output_type": "execute_result"
    }
   ],
   "source": [
    "data.describe()"
   ]
  },
  {
   "cell_type": "markdown",
   "id": "61f3fbe6",
   "metadata": {},
   "source": [
    "## Data Preprocessing"
   ]
  },
  {
   "cell_type": "code",
   "execution_count": 7,
   "id": "4f0b8be3",
   "metadata": {},
   "outputs": [
    {
     "data": {
      "text/plain": [
       "Date             False\n",
       "Closing Value     True\n",
       "dtype: bool"
      ]
     },
     "execution_count": 7,
     "metadata": {},
     "output_type": "execute_result"
    }
   ],
   "source": [
    "data.isnull().any()"
   ]
  },
  {
   "cell_type": "code",
   "execution_count": 8,
   "id": "93835690",
   "metadata": {},
   "outputs": [
    {
     "data": {
      "text/plain": [
       "Date             0\n",
       "Closing Value    7\n",
       "dtype: int64"
      ]
     },
     "execution_count": 8,
     "metadata": {},
     "output_type": "execute_result"
    }
   ],
   "source": [
    "data.isnull().sum()"
   ]
  },
  {
   "cell_type": "code",
   "execution_count": 9,
   "id": "19a87748",
   "metadata": {},
   "outputs": [],
   "source": [
    "data.dropna(axis=0,inplace=True)"
   ]
  },
  {
   "cell_type": "code",
   "execution_count": 10,
   "id": "1a2017ec",
   "metadata": {},
   "outputs": [
    {
     "data": {
      "text/plain": [
       "Date             0\n",
       "Closing Value    0\n",
       "dtype: int64"
      ]
     },
     "execution_count": 10,
     "metadata": {},
     "output_type": "execute_result"
    }
   ],
   "source": [
    "data.isnull().sum()"
   ]
  },
  {
   "cell_type": "code",
   "execution_count": 11,
   "id": "06ebb2b4",
   "metadata": {},
   "outputs": [],
   "source": [
    "data_oil=data.reset_index()['Closing Value']"
   ]
  },
  {
   "cell_type": "code",
   "execution_count": 12,
   "id": "b300dfdb",
   "metadata": {},
   "outputs": [
    {
     "data": {
      "text/plain": [
       "0       25.56\n",
       "1       26.00\n",
       "2       26.53\n",
       "3       25.85\n",
       "4       25.87\n",
       "        ...  \n",
       "8211    73.89\n",
       "8212    74.19\n",
       "8213    73.05\n",
       "8214    73.78\n",
       "8215    73.93\n",
       "Name: Closing Value, Length: 8216, dtype: float64"
      ]
     },
     "execution_count": 12,
     "metadata": {},
     "output_type": "execute_result"
    }
   ],
   "source": [
    "data_oil"
   ]
  },
  {
   "cell_type": "code",
   "execution_count": 13,
   "id": "210cb340",
   "metadata": {},
   "outputs": [
    {
     "data": {
      "text/plain": [
       "[<matplotlib.lines.Line2D at 0x227776ccac0>]"
      ]
     },
     "execution_count": 13,
     "metadata": {},
     "output_type": "execute_result"
    },
    {
     "data": {
      "image/png": "[encoded data removed]",
      "text/plain": [
       "<Figure size 432x288 with 1 Axes>"
      ]
     },
     "metadata": {
      "needs_background": "light"
     },
     "output_type": "display_data"
    }
   ],
   "source": [
    "plt.plot(data_oil)"
   ]
  },
  {
   "cell_type": "code",
   "execution_count": 14,
   "id": "b7652d13",
   "metadata": {},
   "outputs": [],
   "source": [
    "from sklearn.preprocessing import MinMaxScaler\n",
    "scaler=MinMaxScaler(feature_range=(0,1))\n",
    "data_oil=scaler.fit_transform(np.array(data_oil).reshape(-1,1))"
   ]
  },
  {
   "cell_type": "code",
   "execution_count": 15,
   "id": "c88d15ae",
   "metadata": {},
   "outputs": [],
   "source": [
    "training_size=int(len(data_oil)*0.65)\n",
    "test_size=len(data_oil)-training_size\n",
    "train_data,test_data=data_oil[0:training_size,:],data_oil[training_size:len(data_oil),:1]"
   ]
  },
  {
   "cell_type": "code",
   "execution_count": 16,
   "id": "4d916d18",
   "metadata": {},
   "outputs": [
    {
     "data": {
      "text/plain": [
       "array([[0.11335703],\n",
       "       [0.11661484],\n",
       "       [0.12053902],\n",
       "       ...,\n",
       "       [0.37916482],\n",
       "       [0.38153413],\n",
       "       [0.38294092]])"
      ]
     },
     "execution_count": 16,
     "metadata": {},
     "output_type": "execute_result"
    }
   ],
   "source": [
    "train_data"
   ]
  },
  {
   "cell_type": "code",
   "execution_count": 17,
   "id": "f267976d",
   "metadata": {},
   "outputs": [
    {
     "data": {
      "text/plain": [
       "array([[0.38005331],\n",
       "       [0.36872501],\n",
       "       [0.37324152],\n",
       "       ...,\n",
       "       [0.46497853],\n",
       "       [0.47038353],\n",
       "       [0.47149415]])"
      ]
     },
     "execution_count": 17,
     "metadata": {},
     "output_type": "execute_result"
    }
   ],
   "source": [
    "test_data"
   ]
  },
  {
   "cell_type": "code",
   "execution_count": 18,
   "id": "1fc38c4d",
   "metadata": {},
   "outputs": [],
   "source": [
    "def create_dataset(dataset, time_step=1):\n",
    "\tdataX, dataY = [], []\n",
    "\tfor i in range(len(dataset)-time_step-1):\n",
    "\t\ta = dataset[i:(i+time_step), 0]   ###i=0, 0,1,2,3-----99   100 \n",
    "\t\tdataX.append(a)\n",
    "\t\tdataY.append(dataset[i + time_step, 0])\n",
    "\treturn np.array(dataX), np.array(dataY)"
   ]
  },
  {
   "cell_type": "code",
   "execution_count": 19,
   "id": "d763913d",
   "metadata": {},
   "outputs": [],
   "source": [
    "time_step = 10\n",
    "X_train, y_train = create_dataset(train_data, time_step)\n",
    "X_test, ytest = create_dataset(test_data, time_step)"
   ]
  },
  {
   "cell_type": "code",
   "execution_count": 20,
   "id": "8ddd6ccd",
   "metadata": {},
   "outputs": [
    {
     "data": {
      "text/plain": [
       "array([[0.11335703, 0.11661484, 0.12053902, ..., 0.10980305, 0.1089886 ,\n",
       "        0.11054346],\n",
       "       [0.11661484, 0.12053902, 0.11550422, ..., 0.1089886 , 0.11054346,\n",
       "        0.10165852],\n",
       "       [0.12053902, 0.11550422, 0.1156523 , ..., 0.11054346, 0.10165852,\n",
       "        0.09906708],\n",
       "       ...,\n",
       "       [0.36731823, 0.35176958, 0.36080261, ..., 0.36391234, 0.37042796,\n",
       "        0.37042796],\n",
       "       [0.35176958, 0.36080261, 0.35354657, ..., 0.37042796, 0.37042796,\n",
       "        0.37879461],\n",
       "       [0.36080261, 0.35354657, 0.35295424, ..., 0.37042796, 0.37879461,\n",
       "        0.37916482]])"
      ]
     },
     "execution_count": 20,
     "metadata": {},
     "output_type": "execute_result"
    }
   ],
   "source": [
    "X_train"
   ]
  },
  {
   "cell_type": "code",
   "execution_count": 21,
   "id": "9d543361",
   "metadata": {},
   "outputs": [
    {
     "data": {
      "text/plain": [
       "array([0.10165852, 0.09906708, 0.08203761, ..., 0.37879461, 0.37916482,\n",
       "       0.38153413])"
      ]
     },
     "execution_count": 21,
     "metadata": {},
     "output_type": "execute_result"
    }
   ],
   "source": [
    "y_train"
   ]
  },
  {
   "cell_type": "code",
   "execution_count": 22,
   "id": "b71dd31d",
   "metadata": {},
   "outputs": [],
   "source": [
    "X_train =X_train.reshape(X_train.shape[0],X_train.shape[1] , 1)\n",
    "X_test = X_test.reshape(X_test.shape[0],X_test.shape[1] , 1)"
   ]
  },
  {
   "cell_type": "code",
   "execution_count": 23,
   "id": "2ec1a16e",
   "metadata": {},
   "outputs": [
    {
     "data": {
      "text/plain": [
       "array([[[0.11335703],\n",
       "        [0.11661484],\n",
       "        [0.12053902],\n",
       "        ...,\n",
       "        [0.10980305],\n",
       "        [0.1089886 ],\n",
       "        [0.11054346]],\n",
       "\n",
       "       [[0.11661484],\n",
       "        [0.12053902],\n",
       "        [0.11550422],\n",
       "        ...,\n",
       "        [0.1089886 ],\n",
       "        [0.11054346],\n",
       "        [0.10165852]],\n",
       "\n",
       "       [[0.12053902],\n",
       "        [0.11550422],\n",
       "        [0.1156523 ],\n",
       "        ...,\n",
       "        [0.11054346],\n",
       "        [0.10165852],\n",
       "        [0.09906708]],\n",
       "\n",
       "       ...,\n",
       "\n",
       "       [[0.36731823],\n",
       "        [0.35176958],\n",
       "        [0.36080261],\n",
       "        ...,\n",
       "        [0.36391234],\n",
       "        [0.37042796],\n",
       "        [0.37042796]],\n",
       "\n",
       "       [[0.35176958],\n",
       "        [0.36080261],\n",
       "        [0.35354657],\n",
       "        ...,\n",
       "        [0.37042796],\n",
       "        [0.37042796],\n",
       "        [0.37879461]],\n",
       "\n",
       "       [[0.36080261],\n",
       "        [0.35354657],\n",
       "        [0.35295424],\n",
       "        ...,\n",
       "        [0.37042796],\n",
       "        [0.37879461],\n",
       "        [0.37916482]]])"
      ]
     },
     "execution_count": 23,
     "metadata": {},
     "output_type": "execute_result"
    }
   ],
   "source": [
    "X_train"
   ]
  },
  {
   "cell_type": "markdown",
   "id": "2640d7a5",
   "metadata": {},
   "source": [
    "## Model Evaluation"
   ]
  },
  {
   "cell_type": "code",
   "execution_count": 24,
   "id": "c68e349b",
   "metadata": {},
   "outputs": [],
   "source": [
    "from tensorflow.keras.models import Sequential\n",
    "from tensorflow.keras.layers import Dense\n",
    "from tensorflow.keras.layers import LSTM "
   ]
  },
  {
   "cell_type": "code",
   "execution_count": 25,
   "id": "a83d318d",
   "metadata": {},
   "outputs": [],
   "source": [
    "model=Sequential()\n",
    "model.add(LSTM(50,return_sequences=True,input_shape=(10,1)))\n",
    "model.add(LSTM(50,return_sequences=True))\n",
    "model.add(LSTM(50))\n",
    "model.add(Dense(1))\n",
    "model.compile(loss='mean_squared_error',optimizer='adam')"
   ]
  },
  {
   "cell_type": "code",
   "execution_count": 26,
   "id": "f88fce60",
   "metadata": {},
   "outputs": [
    {
     "name": "stdout",
     "output_type": "stream",
     "text": [
      "Model: \"sequential\"\n",
      "_________________________________________________________________\n",
      " Layer (type)                Output Shape              Param #   \n",
      "=================================================================\n",
      " lstm (LSTM)                 (None, 10, 50)            10400     \n",
      "                                                                 \n",
      " lstm_1 (LSTM)               (None, 10, 50)            20200     \n",
      "                                                                 \n",
      " lstm_2 (LSTM)               (None, 50)                20200     \n",
      "                                                                 \n",
      " dense (Dense)               (None, 1)                 51        \n",
      "                                                                 \n",
      "=================================================================\n",
      "Total params: 50,851\n",
      "Trainable params: 50,851\n",
      "Non-trainable params: 0\n",
      "_________________________________________________________________\n"
     ]
    }
   ],
   "source": [
    "model.summary()"
   ]
  },
  {
   "cell_type": "code",
   "execution_count": 27,
   "id": "ae864e81",
   "metadata": {},
   "outputs": [
    {
     "name": "stdout",
     "output_type": "stream",
     "text": [
      "Epoch 1/50\n",
      "84/84 [==============================] - 17s 66ms/step - loss: 0.0017 - val_loss: 9.7563e-04\n",
      "Epoch 2/50\n",
      "84/84 [==============================] - 1s 16ms/step - loss: 1.3234e-04 - val_loss: 7.4292e-04\n",
      "Epoch 3/50\n",
      "84/84 [==============================] - 1s 17ms/step - loss: 1.2154e-04 - val_loss: 7.4815e-04\n",
      "Epoch 4/50\n",
      "84/84 [==============================] - 2s 21ms/step - loss: 1.2413e-04 - val_loss: 9.9048e-04\n",
      "Epoch 5/50\n",
      "84/84 [==============================] - 2s 20ms/step - loss: 1.2953e-04 - val_loss: 9.1363e-04\n",
      "Epoch 6/50\n",
      "84/84 [==============================] - 2s 20ms/step - loss: 1.2265e-04 - val_loss: 7.2222e-04\n",
      "Epoch 7/50\n",
      "84/84 [==============================] - 1s 17ms/step - loss: 1.2133e-04 - val_loss: 0.0011\n",
      "Epoch 8/50\n",
      "84/84 [==============================] - 2s 18ms/step - loss: 1.2029e-04 - val_loss: 0.0010\n",
      "Epoch 9/50\n",
      "84/84 [==============================] - 2s 19ms/step - loss: 1.1979e-04 - val_loss: 6.7324e-04\n",
      "Epoch 10/50\n",
      "84/84 [==============================] - 1s 17ms/step - loss: 1.1331e-04 - val_loss: 0.0011\n",
      "Epoch 11/50\n",
      "84/84 [==============================] - 1s 18ms/step - loss: 1.2167e-04 - val_loss: 6.4109e-04\n",
      "Epoch 12/50\n",
      "84/84 [==============================] - 2s 19ms/step - loss: 1.0397e-04 - val_loss: 6.2779e-04\n",
      "Epoch 13/50\n",
      "84/84 [==============================] - 1s 17ms/step - loss: 1.0293e-04 - val_loss: 6.5381e-04\n",
      "Epoch 14/50\n",
      "84/84 [==============================] - 1s 17ms/step - loss: 1.0606e-04 - val_loss: 5.4671e-04\n",
      "Epoch 15/50\n",
      "84/84 [==============================] - 1s 15ms/step - loss: 9.5197e-05 - val_loss: 5.1150e-04\n",
      "Epoch 16/50\n",
      "84/84 [==============================] - 1s 17ms/step - loss: 9.2693e-05 - val_loss: 0.0015\n",
      "Epoch 17/50\n",
      "84/84 [==============================] - 1s 18ms/step - loss: 9.1114e-05 - val_loss: 5.4432e-04\n",
      "Epoch 18/50\n",
      "84/84 [==============================] - 1s 15ms/step - loss: 8.3587e-05 - val_loss: 0.0010\n",
      "Epoch 19/50\n",
      "84/84 [==============================] - 1s 17ms/step - loss: 7.9692e-05 - val_loss: 0.0016\n",
      "Epoch 20/50\n",
      "84/84 [==============================] - 1s 16ms/step - loss: 7.9351e-05 - val_loss: 0.0013\n",
      "Epoch 21/50\n",
      "84/84 [==============================] - 1s 18ms/step - loss: 7.8753e-05 - val_loss: 3.6634e-04\n",
      "Epoch 22/50\n",
      "84/84 [==============================] - 1s 16ms/step - loss: 8.2401e-05 - val_loss: 3.9529e-04\n",
      "Epoch 23/50\n",
      "84/84 [==============================] - 2s 19ms/step - loss: 6.6567e-05 - val_loss: 3.5860e-04\n",
      "Epoch 24/50\n",
      "84/84 [==============================] - 1s 16ms/step - loss: 6.4310e-05 - val_loss: 3.0782e-04\n",
      "Epoch 25/50\n",
      "84/84 [==============================] - 1s 17ms/step - loss: 6.2760e-05 - val_loss: 4.5050e-04\n",
      "Epoch 26/50\n",
      "84/84 [==============================] - 2s 18ms/step - loss: 6.4229e-05 - val_loss: 4.1259e-04\n",
      "Epoch 27/50\n",
      "84/84 [==============================] - 2s 19ms/step - loss: 6.5882e-05 - val_loss: 2.9357e-04\n",
      "Epoch 28/50\n",
      "84/84 [==============================] - 2s 19ms/step - loss: 5.8801e-05 - val_loss: 5.0502e-04\n",
      "Epoch 29/50\n",
      "84/84 [==============================] - 2s 19ms/step - loss: 5.7142e-05 - val_loss: 0.0010\n",
      "Epoch 30/50\n",
      "84/84 [==============================] - 1s 16ms/step - loss: 5.4425e-05 - val_loss: 2.9749e-04\n",
      "Epoch 31/50\n",
      "84/84 [==============================] - 2s 18ms/step - loss: 5.0939e-05 - val_loss: 2.4358e-04\n",
      "Epoch 32/50\n",
      "84/84 [==============================] - 2s 21ms/step - loss: 4.8457e-05 - val_loss: 2.0565e-04\n",
      "Epoch 33/50\n",
      "84/84 [==============================] - 2s 21ms/step - loss: 5.1987e-05 - val_loss: 2.2541e-04\n",
      "Epoch 34/50\n",
      "84/84 [==============================] - 2s 21ms/step - loss: 4.8936e-05 - val_loss: 2.0997e-04\n",
      "Epoch 35/50\n",
      "84/84 [==============================] - 2s 20ms/step - loss: 4.6380e-05 - val_loss: 4.5388e-04\n",
      "Epoch 36/50\n",
      "84/84 [==============================] - 1s 17ms/step - loss: 4.8406e-05 - val_loss: 3.3187e-04\n",
      "Epoch 37/50\n",
      "84/84 [==============================] - 2s 19ms/step - loss: 4.2755e-05 - val_loss: 3.4104e-04\n",
      "Epoch 38/50\n",
      "84/84 [==============================] - 1s 17ms/step - loss: 4.1756e-05 - val_loss: 2.2109e-04\n",
      "Epoch 39/50\n",
      "84/84 [==============================] - 2s 19ms/step - loss: 4.2925e-05 - val_loss: 2.0777e-04\n",
      "Epoch 40/50\n",
      "84/84 [==============================] - 2s 19ms/step - loss: 3.6849e-05 - val_loss: 2.0150e-04\n",
      "Epoch 41/50\n",
      "84/84 [==============================] - 1s 17ms/step - loss: 4.3117e-05 - val_loss: 2.3939e-04\n",
      "Epoch 42/50\n",
      "84/84 [==============================] - 2s 19ms/step - loss: 3.6349e-05 - val_loss: 2.8441e-04\n",
      "Epoch 43/50\n",
      "84/84 [==============================] - 1s 16ms/step - loss: 3.4031e-05 - val_loss: 2.2278e-04\n",
      "Epoch 44/50\n",
      "84/84 [==============================] - 2s 18ms/step - loss: 3.4307e-05 - val_loss: 2.2186e-04\n",
      "Epoch 45/50\n",
      "84/84 [==============================] - 1s 18ms/step - loss: 3.6085e-05 - val_loss: 1.8563e-04\n",
      "Epoch 46/50\n",
      "84/84 [==============================] - 2s 19ms/step - loss: 4.0738e-05 - val_loss: 3.2046e-04\n",
      "Epoch 47/50\n",
      "84/84 [==============================] - 2s 18ms/step - loss: 4.1212e-05 - val_loss: 2.5173e-04\n",
      "Epoch 48/50\n",
      "84/84 [==============================] - 1s 17ms/step - loss: 3.4938e-05 - val_loss: 1.8232e-04\n",
      "Epoch 49/50\n",
      "84/84 [==============================] - 1s 16ms/step - loss: 3.4942e-05 - val_loss: 2.0879e-04\n",
      "Epoch 50/50\n",
      "84/84 [==============================] - 1s 18ms/step - loss: 3.4287e-05 - val_loss: 1.9701e-04\n"
     ]
    },
    {
     "data": {
      "text/plain": [
       "<keras.callbacks.History at 0x22778e17b80>"
      ]
     },
     "execution_count": 27,
     "metadata": {},
     "output_type": "execute_result"
    }
   ],
   "source": [
    "model.fit(X_train,y_train,validation_data=(X_test,ytest),epochs=50,batch_size=64,verbose=1)"
   ]
  },
  {
   "cell_type": "code",
   "execution_count": 28,
   "id": "477052fe",
   "metadata": {},
   "outputs": [],
   "source": [
    "train_predict=model.predict(X_train)\n",
    "test_predict=model.predict(X_test)"
   ]
  },
  {
   "cell_type": "code",
   "execution_count": 41,
   "id": "5c30539d",
   "metadata": {},
   "outputs": [],
   "source": [
    "model.save(\"crude_oil.h5\")"
   ]
  },
  {
   "cell_type": "code",
   "execution_count": 29,
   "id": "c42ab348",
   "metadata": {},
   "outputs": [],
   "source": [
    "train_predict=scaler.inverse_transform(train_predict)\n",
    "test_predict=scaler.inverse_transform(test_predict)"
   ]
  },
  {
   "cell_type": "markdown",
   "id": "94370f64",
   "metadata": {},
   "source": [
    "## Model Evaluation"
   ]
  },
  {
   "cell_type": "code",
   "execution_count": 30,
   "id": "542cf3f8",
   "metadata": {},
   "outputs": [
    {
     "data": {
      "text/plain": [
       "29.229106304622622"
      ]
     },
     "execution_count": 30,
     "metadata": {},
     "output_type": "execute_result"
    }
   ],
   "source": [
    "import math\n",
    "from sklearn.metrics import mean_squared_error\n",
    "math.sqrt(mean_squared_error(y_train,train_predict))"
   ]
  },
  {
   "cell_type": "code",
   "execution_count": 31,
   "id": "736b6015",
   "metadata": {},
   "outputs": [
    {
     "data": {
      "text/plain": [
       "78.33189244270302"
      ]
     },
     "execution_count": 31,
     "metadata": {},
     "output_type": "execute_result"
    }
   ],
   "source": [
    "math.sqrt(mean_squared_error(ytest,test_predict))"
   ]
  },
  {
   "cell_type": "markdown",
   "id": "fa285ca8",
   "metadata": {},
   "source": [
    "### Plot"
   ]
  },
  {
   "cell_type": "code",
   "execution_count": 32,
   "id": "5af2c38f",
   "metadata": {},
   "outputs": [
    {
     "data": {
      "image/png": "[encoded data removed]",
      "text/plain": [
       "<Figure size 432x288 with 1 Axes>"
      ]
     },
     "metadata": {
      "needs_background": "light"
     },
     "output_type": "display_data"
    }
   ],
   "source": [
    "\n",
    "look_back=10\n",
    "trainPredictPlot = np.empty_like(data_oil)\n",
    "trainPredictPlot[:, :] = np.nan\n",
    "trainPredictPlot[look_back:len(train_predict)+look_back, :] = train_predict\n",
    "testPredictPlot = np.empty_like(data_oil)\n",
    "testPredictPlot[:, :] = np.nan\n",
    "testPredictPlot[len(train_predict)+(look_back*2)+1:len(data_oil)-1, :] = test_predict\n",
    "plt.plot(scaler.inverse_transform(data_oil))\n",
    "plt.plot(trainPredictPlot)\n",
    "plt.plot(testPredictPlot)\n",
    "plt.show()"
   ]
  },
  {
   "cell_type": "markdown",
   "id": "55516c85",
   "metadata": {},
   "source": [
    "### Predict the future 10 days and plot the graph"
   ]
  },
  {
   "cell_type": "code",
   "execution_count": 34,
   "id": "4fc59bfb",
   "metadata": {},
   "outputs": [
    {
     "data": {
      "text/plain": [
       "(1, 10)"
      ]
     },
     "execution_count": 34,
     "metadata": {},
     "output_type": "execute_result"
    }
   ],
   "source": [
    "x_input=test_data[2866:].reshape(1,-1)\n",
    "x_input.shape"
   ]
  },
  {
   "cell_type": "code",
   "execution_count": 35,
   "id": "259e0080",
   "metadata": {},
   "outputs": [],
   "source": [
    "temp_input=list(x_input)\n",
    "temp_input=temp_input[0].tolist()"
   ]
  },
  {
   "cell_type": "code",
   "execution_count": 36,
   "id": "c044247d",
   "metadata": {},
   "outputs": [
    {
     "name": "stdout",
     "output_type": "stream",
     "text": [
      "[0.4711648]\n",
      "11\n",
      "1 day input [0.4811195  0.49726048 0.46794017 0.47297497 0.47119799 0.47341922\n",
      " 0.46497853 0.47038353 0.47149415 0.47116479]\n",
      "1 day output [[0.4710071]]\n",
      "2 day input [0.49726048 0.46794017 0.47297497 0.47119799 0.47341922 0.46497853\n",
      " 0.47038353 0.47149415 0.47116479 0.47100711]\n",
      "2 day output [[0.47043177]]\n",
      "3 day input [0.46794017 0.47297497 0.47119799 0.47341922 0.46497853 0.47038353\n",
      " 0.47149415 0.47116479 0.47100711 0.47043177]\n",
      "3 day output [[0.46935746]]\n",
      "4 day input [0.47297497 0.47119799 0.47341922 0.46497853 0.47038353 0.47149415\n",
      " 0.47116479 0.47100711 0.47043177 0.46935746]\n",
      "4 day output [[0.46821904]]\n",
      "5 day input [0.47119799 0.47341922 0.46497853 0.47038353 0.47149415 0.47116479\n",
      " 0.47100711 0.47043177 0.46935746 0.46821904]\n",
      "5 day output [[0.46706894]]\n",
      "6 day input [0.47341922 0.46497853 0.47038353 0.47149415 0.47116479 0.47100711\n",
      " 0.47043177 0.46935746 0.46821904 0.46706894]\n",
      "6 day output [[0.4659978]]\n",
      "7 day input [0.46497853 0.47038353 0.47149415 0.47116479 0.47100711 0.47043177\n",
      " 0.46935746 0.46821904 0.46706894 0.46599779]\n",
      "7 day output [[0.46502292]]\n",
      "8 day input [0.47038353 0.47149415 0.47116479 0.47100711 0.47043177 0.46935746\n",
      " 0.46821904 0.46706894 0.46599779 0.46502292]\n",
      "8 day output [[0.4642337]]\n",
      "9 day input [0.47149415 0.47116479 0.47100711 0.47043177 0.46935746 0.46821904\n",
      " 0.46706894 0.46599779 0.46502292 0.4642337 ]\n",
      "9 day output [[0.4635509]]\n",
      "[[0.4711647927761078], [0.4710071086883545], [0.47043177485466003], [0.4693574607372284], [0.4682190418243408], [0.46706894040107727], [0.4659977853298187], [0.4650229215621948], [0.4642336964607239], [0.4635508954524994]]\n"
     ]
    }
   ],
   "source": [
    "\n",
    "from numpy import array\n",
    "\n",
    "lst_output=[]\n",
    "n_steps=10\n",
    "i=0\n",
    "while(i<10):\n",
    "    \n",
    "    if(len(temp_input)>10):\n",
    "\n",
    "        x_input=np.array(temp_input[1:])\n",
    "        print(\"{} day input {}\".format(i,x_input))\n",
    "        x_input=x_input.reshape(1,-1)\n",
    "        x_input = x_input.reshape((1, n_steps, 1))\n",
    "\n",
    "        yhat = model.predict(x_input, verbose=0)\n",
    "        print(\"{} day output {}\".format(i,yhat))\n",
    "        temp_input.extend(yhat[0].tolist())\n",
    "        temp_input=temp_input[1:]\n",
    "\n",
    "        lst_output.extend(yhat.tolist())\n",
    "        i=i+1\n",
    "    else:\n",
    "        x_input = x_input.reshape((1, n_steps,1))\n",
    "        yhat = model.predict(x_input, verbose=0)\n",
    "        print(yhat[0])\n",
    "        temp_input.extend(yhat[0].tolist())\n",
    "        print(len(temp_input))\n",
    "        lst_output.extend(yhat.tolist())\n",
    "        i=i+1\n",
    "\n",
    "print(lst_output)"
   ]
  },
  {
   "cell_type": "code",
   "execution_count": 37,
   "id": "54baa6f5",
   "metadata": {},
   "outputs": [],
   "source": [
    "day_new=np.arange(1,11)\n",
    "day_pred=np.arange(11,21)"
   ]
  },
  {
   "cell_type": "code",
   "execution_count": 38,
   "id": "3bd6c85a",
   "metadata": {},
   "outputs": [
    {
     "data": {
      "text/plain": [
       "[<matplotlib.lines.Line2D at 0x2270d4b92b0>]"
      ]
     },
     "execution_count": 38,
     "metadata": {},
     "output_type": "execute_result"
    },
    {
     "data": {
      "image/png": "[encoded data removed]",
      "text/plain": [
       "<Figure size 432x288 with 1 Axes>"
      ]
     },
     "metadata": {
      "needs_background": "light"
     },
     "output_type": "display_data"
    }
   ],
   "source": [
    "plt.plot(day_new,scaler.inverse_transform(data_oil[8206:]))\n",
    "plt.plot(day_pred,scaler.inverse_transform(lst_output))"
   ]
  },
  {
   "cell_type": "code",
   "execution_count": 39,
   "id": "fc8fa8c2",
   "metadata": {},
   "outputs": [
    {
     "data": {
      "text/plain": [
       "[<matplotlib.lines.Line2D at 0x2270d48f460>]"
      ]
     },
     "execution_count": 39,
     "metadata": {},
     "output_type": "execute_result"
    },
    {
     "data": {
      "image/png": "[encoded data removed]",
      "text/plain": [
       "<Figure size 432x288 with 1 Axes>"
      ]
     },
     "metadata": {
      "needs_background": "light"
     },
     "output_type": "display_data"
    }
   ],
   "source": [
    "df3=data_oil.tolist()\n",
    "df3.extend(lst_output)\n",
    "plt.plot(df3[8100:])"
   ]
  },
  {
   "cell_type": "code",
   "execution_count": 40,
   "id": "d01d8899",
   "metadata": {},
   "outputs": [
    {
     "data": {
      "text/plain": [
       "[<matplotlib.lines.Line2D at 0x22709e6e670>]"
      ]
     },
     "execution_count": 40,
     "metadata": {},
     "output_type": "execute_result"
    },
    {
     "data": {
      "image/png": "[encoded data removed]",
      "text/plain": [
       "<Figure size 432x288 with 1 Axes>"
      ]
     },
     "metadata": {
      "needs_background": "light"
     },
     "output_type": "display_data"
    }
   ],
   "source": [
    "df3=scaler.inverse_transform(df3).tolist()\n",
    "plt.plot(df3)"
   ]
  },
  {
   "cell_type": "code",
   "execution_count": null,
   "id": "757c5cc6",
   "metadata": {},
   "outputs": [],
   "source": []
  }
 ],
 "metadata": {
  "kernelspec": {
   "display_name": "Python 3 (ipykernel)",
   "language": "python",
   "name": "python3"
  },
  "language_info": {
   "codemirror_mode": {
    "name": "ipython",
    "version": 3
   },
   "file_extension": ".py",
   "mimetype": "text/x-python",
   "name": "python",
   "nbconvert_exporter": "python",
   "pygments_lexer": "ipython3",
   "version": "3.9.7"
  }
 },
 "nbformat": 4,
 "nbformat_minor": 5
}
