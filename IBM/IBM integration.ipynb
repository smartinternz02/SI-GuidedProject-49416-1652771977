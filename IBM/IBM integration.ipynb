{
 "cells": [
  {
   "cell_type": "code",
   "execution_count": 1,
   "id": "1dbdb888",
   "metadata": {},
   "outputs": [
    {
     "name": "stdout",
     "output_type": "stream",
     "text": [
      "Collecting ibm_watson_machine_learning\n",
      "  Downloading ibm_watson_machine_learning-1.0.210-py3-none-any.whl (1.7 MB)\n",
      "Collecting tabulate\n",
      "  Downloading tabulate-0.8.9-py3-none-any.whl (25 kB)\n",
      "Collecting ibm-cos-sdk==2.11.*\n",
      "  Downloading ibm-cos-sdk-2.11.0.tar.gz (53 kB)\n",
      "Requirement already satisfied: urllib3 in c:\\anaconda\\lib\\site-packages (from ibm_watson_machine_learning) (1.26.7)\n",
      "Collecting lomond\n",
      "  Downloading lomond-0.3.3-py2.py3-none-any.whl (35 kB)\n",
      "Requirement already satisfied: packaging in c:\\anaconda\\lib\\site-packages (from ibm_watson_machine_learning) (21.0)\n",
      "Requirement already satisfied: certifi in c:\\anaconda\\lib\\site-packages (from ibm_watson_machine_learning) (2021.10.8)\n",
      "Requirement already satisfied: pandas<1.4.0,>=0.24.2 in c:\\anaconda\\lib\\site-packages (from ibm_watson_machine_learning) (1.3.4)\n",
      "Requirement already satisfied: requests in c:\\anaconda\\lib\\site-packages (from ibm_watson_machine_learning) (2.26.0)\n",
      "Requirement already satisfied: importlib-metadata in c:\\anaconda\\lib\\site-packages (from ibm_watson_machine_learning) (4.8.1)\n",
      "Collecting ibm-cos-sdk-core==2.11.0\n",
      "  Downloading ibm-cos-sdk-core-2.11.0.tar.gz (913 kB)\n",
      "Collecting ibm-cos-sdk-s3transfer==2.11.0\n",
      "  Downloading ibm-cos-sdk-s3transfer-2.11.0.tar.gz (135 kB)\n",
      "Collecting jmespath<1.0.0,>=0.7.1\n",
      "  Downloading jmespath-0.10.0-py2.py3-none-any.whl (24 kB)\n",
      "Requirement already satisfied: python-dateutil<3.0.0,>=2.1 in c:\\anaconda\\lib\\site-packages (from ibm-cos-sdk-core==2.11.0->ibm-cos-sdk==2.11.*->ibm_watson_machine_learning) (2.8.2)\n",
      "Requirement already satisfied: numpy>=1.17.3 in c:\\anaconda\\lib\\site-packages (from pandas<1.4.0,>=0.24.2->ibm_watson_machine_learning) (1.20.3)\n",
      "Requirement already satisfied: pytz>=2017.3 in c:\\anaconda\\lib\\site-packages (from pandas<1.4.0,>=0.24.2->ibm_watson_machine_learning) (2021.3)\n",
      "Requirement already satisfied: six>=1.5 in c:\\anaconda\\lib\\site-packages (from python-dateutil<3.0.0,>=2.1->ibm-cos-sdk-core==2.11.0->ibm-cos-sdk==2.11.*->ibm_watson_machine_learning) (1.16.0)\n",
      "Requirement already satisfied: idna<4,>=2.5 in c:\\anaconda\\lib\\site-packages (from requests->ibm_watson_machine_learning) (3.2)\n",
      "Requirement already satisfied: charset-normalizer~=2.0.0 in c:\\anaconda\\lib\\site-packages (from requests->ibm_watson_machine_learning) (2.0.4)\n",
      "Requirement already satisfied: zipp>=0.5 in c:\\anaconda\\lib\\site-packages (from importlib-metadata->ibm_watson_machine_learning) (3.6.0)\n",
      "Requirement already satisfied: pyparsing>=2.0.2 in c:\\anaconda\\lib\\site-packages (from packaging->ibm_watson_machine_learning) (3.0.4)\n",
      "Building wheels for collected packages: ibm-cos-sdk, ibm-cos-sdk-core, ibm-cos-sdk-s3transfer\n",
      "  Building wheel for ibm-cos-sdk (setup.py): started\n",
      "  Building wheel for ibm-cos-sdk (setup.py): finished with status 'done'\n",
      "  Created wheel for ibm-cos-sdk: filename=ibm_cos_sdk-2.11.0-py3-none-any.whl size=73660 sha256=88d99664d14b9e0922f5bd42e22841f61cbcb8a08295557295a19e4d5175cc3a\n",
      "  Stored in directory: c:\\users\\utkarsh\\appdata\\local\\pip\\cache\\wheels\\d3\\a5\\34\\52d2e378d3d0446989ebcd214af8bad55beecf905258852b9f\n",
      "  Building wheel for ibm-cos-sdk-core (setup.py): started\n",
      "  Building wheel for ibm-cos-sdk-core (setup.py): finished with status 'done'\n",
      "  Created wheel for ibm-cos-sdk-core: filename=ibm_cos_sdk_core-2.11.0-py3-none-any.whl size=536351 sha256=db014321aabea889d313e2543fbc64b21670d7252a85e3d364bf912a3504cea8\n",
      "  Stored in directory: c:\\users\\utkarsh\\appdata\\local\\pip\\cache\\wheels\\ed\\a7\\cd\\32a2cf8bae11ba6fc56451b7c46608cfd9176d1da8c6f73fa1\n",
      "  Building wheel for ibm-cos-sdk-s3transfer (setup.py): started\n",
      "  Building wheel for ibm-cos-sdk-s3transfer (setup.py): finished with status 'done'\n",
      "  Created wheel for ibm-cos-sdk-s3transfer: filename=ibm_cos_sdk_s3transfer-2.11.0-py3-none-any.whl size=89486 sha256=ab94c03dae13daabc8ca71bff037ffcf33941d53dd0162eedf4b6a8cacd53042\n",
      "  Stored in directory: c:\\users\\utkarsh\\appdata\\local\\pip\\cache\\wheels\\4a\\3f\\7c\\551692188f14bdb095e715dd7f1061fec13b3766d45f3c3296\n",
      "Successfully built ibm-cos-sdk ibm-cos-sdk-core ibm-cos-sdk-s3transfer\n",
      "Installing collected packages: jmespath, ibm-cos-sdk-core, ibm-cos-sdk-s3transfer, tabulate, lomond, ibm-cos-sdk, ibm-watson-machine-learning\n",
      "Successfully installed ibm-cos-sdk-2.11.0 ibm-cos-sdk-core-2.11.0 ibm-cos-sdk-s3transfer-2.11.0 ibm-watson-machine-learning-1.0.210 jmespath-0.10.0 lomond-0.3.3 tabulate-0.8.9\n"
     ]
    }
   ],
   "source": [
    "!pip install ibm_watson_machine_learning"
   ]
  },
  {
   "cell_type": "code",
   "execution_count": 2,
   "id": "2c3609ec",
   "metadata": {},
   "outputs": [],
   "source": [
    "from ibm_watson_machine_learning import APIClient\n",
    "wml_credentials = {\n",
    "                   \"url\": \"https://us-south.ml.cloud.ibm.com\",\n",
    "                   \"apikey\":\"gjZQiOGbyO4VpSb7Qt1y_uNaDCjbTB4XdHG1IsiwHowk\"\n",
    "}\n",
    "client = APIClient(wml_credentials)"
   ]
  },
  {
   "cell_type": "code",
   "execution_count": 3,
   "id": "95f70703",
   "metadata": {},
   "outputs": [],
   "source": [
    "def guid_from_space_name(client,space_name):\n",
    "    space = client.spaces.get_details()\n",
    "    return(next(item for item in space['resources'] if item['entity'][\"name\"] == space_name) ['metadata']['id'])"
   ]
  },
  {
   "cell_type": "code",
   "execution_count": 4,
   "id": "d3edbd43",
   "metadata": {},
   "outputs": [
    {
     "name": "stdout",
     "output_type": "stream",
     "text": [
      "Space UID = b7b1ef28-9477-498f-9b42-e597ac59708b\n"
     ]
    }
   ],
   "source": [
    "space_uid = guid_from_space_name(client,'Models')\n",
    "print(\"Space UID = \" +space_uid)"
   ]
  },
  {
   "cell_type": "code",
   "execution_count": 5,
   "id": "ad594060",
   "metadata": {},
   "outputs": [
    {
     "data": {
      "text/plain": [
       "'SUCCESS'"
      ]
     },
     "execution_count": 5,
     "metadata": {},
     "output_type": "execute_result"
    }
   ],
   "source": [
    "client.set.default_space(space_uid)"
   ]
  },
  {
   "cell_type": "code",
   "execution_count": 6,
   "id": "57659640",
   "metadata": {},
   "outputs": [
    {
     "name": "stdout",
     "output_type": "stream",
     "text": [
      "Successfully saved model content to file: 'Crudeoil1.tar.gz'\n"
     ]
    },
    {
     "data": {
      "text/plain": [
       "'C:\\\\Users\\\\UTKARSH\\\\Downloads\\\\Externship\\\\Crude Oil Price Prediction Using IBM Watson Studio\\\\IBM/Crudeoil1.tar.gz'"
      ]
     },
     "execution_count": 6,
     "metadata": {},
     "output_type": "execute_result"
    }
   ],
   "source": [
    "client.repository.download(\"8ebe7bd4-292d-491f-ae56-64341471f8e9\",\"Crudeoil1.tar.gz\")"
   ]
  },
  {
   "cell_type": "code",
   "execution_count": null,
   "id": "a792e739",
   "metadata": {},
   "outputs": [],
   "source": []
  }
 ],
 "metadata": {
  "kernelspec": {
   "display_name": "Python 3 (ipykernel)",
   "language": "python",
   "name": "python3"
  },
  "language_info": {
   "codemirror_mode": {
    "name": "ipython",
    "version": 3
   },
   "file_extension": ".py",
   "mimetype": "text/x-python",
   "name": "python",
   "nbconvert_exporter": "python",
   "pygments_lexer": "ipython3",
   "version": "3.9.7"
  }
 },
 "nbformat": 4,
 "nbformat_minor": 5
}
